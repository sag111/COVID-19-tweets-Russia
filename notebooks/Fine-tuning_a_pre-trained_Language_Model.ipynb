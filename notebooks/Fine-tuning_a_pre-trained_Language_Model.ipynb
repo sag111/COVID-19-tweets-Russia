{
 "cells": [
  {
   "cell_type": "markdown",
   "id": "a0844eab",
   "metadata": {},
   "source": [
    "# Fine-tuning a pre-trained Language Model "
   ]
  },
  {
   "cell_type": "code",
   "execution_count": 1,
   "id": "6169c40f",
   "metadata": {},
   "outputs": [],
   "source": [
    "import pandas as pd\n",
    "from sklearn.metrics import f1_score, classification_report\n",
    "from simpletransformers.classification import (MultiLabelClassificationModel, MultiLabelClassificationArgs,\n",
    "                                               ClassificationModel, ClassificationArgs)\n",
    "import warnings\n",
    "warnings.filterwarnings('ignore')"
   ]
  },
  {
   "cell_type": "code",
   "execution_count": 2,
   "id": "f73b196e",
   "metadata": {},
   "outputs": [],
   "source": [
    "def bin_other_covid(labels, other_ind = 1):\n",
    "    if labels[other_ind] == 1:\n",
    "        return 0\n",
    "    else:\n",
    "        return 1"
   ]
  },
  {
   "cell_type": "code",
   "execution_count": 3,
   "id": "f594483a",
   "metadata": {},
   "outputs": [],
   "source": [
    "# Configuration\n",
    "\n",
    "config = {\n",
    "    \"path_to_data\": \"./labeled_corpus_texts.csv\",\n",
    "    \n",
    "    # our model on huggingface: https://huggingface.co/sagteam/covid-twitter-xlm-roberta-large/tree/main\n",
    "    \"model\": {\"model_type\": \"xlmroberta\",\n",
    "              \"model_name\": \"sagteam/covid-twitter-xlm-roberta-large\", },\n",
    "    \n",
    "    \"args\": {\"train_batch_size\": 32,\n",
    "             \"learning_rate\": 4e-05,\n",
    "             \"num_train_epochs\": 15,\n",
    "             \"no_save\": True,\n",
    "             \"output_dir\": \"./outputs\",\n",
    "             \"overwrite_output_dir\": True, \n",
    "             \"no_save\": False,\n",
    "             \"save_optimizer_and_scheduler\": False,\n",
    "             \"save_eval_checkpoints\": False,\n",
    "             \"save_model_every_epoch\": False\n",
    "             },\n",
    "    \n",
    "    # task type: \"bin\" or \"all\"\n",
    "    \"task_type\": \"bin\",\n",
    "}"
   ]
  },
  {
   "cell_type": "markdown",
   "id": "2458e77b",
   "metadata": {},
   "source": [
    "## Data"
   ]
  },
  {
   "cell_type": "code",
   "execution_count": 4,
   "id": "457b3b52",
   "metadata": {},
   "outputs": [],
   "source": [
    "ds_dir = config[\"path_to_data\"]\n",
    "\n",
    "df = pd.read_csv(ds_dir, index_col=0, lineterminator='\\n')\n",
    "\n",
    "df_x_tr = df.query(\"part=='train'\")\n",
    "df_y_tr = df.query(\"part=='train'\").iloc[:,3:]\n",
    "df_x_vl = df.query(\"part=='valid'\")\n",
    "df_y_vl = df.query(\"part=='valid'\").iloc[:,3:]\n",
    "df_x_ts = df.query(\"part=='test'\")\n",
    "df_y_ts = df.query(\"part=='test'\").iloc[:,3:]\n",
    "\n",
    "num_labels = len(df_y_tr.columns)\n",
    "\n",
    "l_y_column_names = list(df_y_tr.columns)\n",
    "df_y_tr = df_y_tr[l_y_column_names]\n",
    "df_y_vl = df_y_vl[l_y_column_names]\n",
    "df_y_ts = df_y_ts[l_y_column_names]"
   ]
  },
  {
   "cell_type": "markdown",
   "id": "95fe13bd",
   "metadata": {},
   "source": [
    "### Data preparation for simpletransformers"
   ]
  },
  {
   "cell_type": "code",
   "execution_count": 5,
   "id": "d8b791db",
   "metadata": {},
   "outputs": [],
   "source": [
    "if config[\"task_type\"] == \"bin\":\n",
    "    # Binary classification: \"other\" and \"covid\"\n",
    "    other_ind = None\n",
    "    for column_ind, column_name in enumerate(df_y_tr.columns):\n",
    "        if column_name == \"other\":\n",
    "            other_ind = column_ind\n",
    "            break\n",
    "    \n",
    "    tr = df_x_tr.loc[:, ['text']]\n",
    "    tr[\"labels\"] = [bin_other_covid(row, other_ind) for row in df_y_tr.values]\n",
    "\n",
    "    vl = df_x_vl.loc[:, ['text']]\n",
    "    vl[\"labels\"] = [bin_other_covid(row, other_ind) for row in df_y_vl.values]\n",
    "\n",
    "    ts = df_x_ts.loc[:, ['text']]\n",
    "    ts[\"labels\"] = [bin_other_covid(row, other_ind) for row in df_y_ts.values]\n",
    "\n",
    "else:\n",
    "    # Classification by all classes\n",
    "    tr = df_x_tr.loc[:, ['text']]\n",
    "    tr[\"labels\"] = [list(row) for row in df_y_tr.values]\n",
    "\n",
    "    vl = df_x_vl.loc[:, ['text']]\n",
    "    vl[\"labels\"] = [list(row) for row in df_y_vl.values]\n",
    "\n",
    "    ts = df_x_ts.loc[:, ['text']]\n",
    "    ts[\"labels\"] = [list(row) for row in df_y_ts.values]"
   ]
  },
  {
   "cell_type": "markdown",
   "id": "a016897d",
   "metadata": {},
   "source": [
    "## Model"
   ]
  },
  {
   "cell_type": "code",
   "execution_count": 6,
   "id": "b425a8c6",
   "metadata": {},
   "outputs": [
    {
     "data": {
      "application/vnd.jupyter.widget-view+json": {
       "model_id": "972d7c119862454899d297fc74c38fad",
       "version_major": 2,
       "version_minor": 0
      },
      "text/plain": [
       "HBox(children=(FloatProgress(value=0.0, description='Downloading', max=645.0, style=ProgressStyle(description_…"
      ]
     },
     "metadata": {},
     "output_type": "display_data"
    },
    {
     "name": "stdout",
     "output_type": "stream",
     "text": [
      "\n"
     ]
    },
    {
     "data": {
      "application/vnd.jupyter.widget-view+json": {
       "model_id": "6121828372684288ab88b77a0cfc6c6f",
       "version_major": 2,
       "version_minor": 0
      },
      "text/plain": [
       "HBox(children=(FloatProgress(value=0.0, description='Downloading', max=2240744018.0, style=ProgressStyle(descr…"
      ]
     },
     "metadata": {},
     "output_type": "display_data"
    },
    {
     "name": "stdout",
     "output_type": "stream",
     "text": [
      "\n"
     ]
    },
    {
     "name": "stderr",
     "output_type": "stream",
     "text": [
      "Some weights of the model checkpoint at sagteam/covid-twitter-xlm-roberta-large were not used when initializing XLMRobertaForSequenceClassification: ['lm_head.decoder.weight', 'lm_head.layer_norm.weight', 'lm_head.bias', 'lm_head.dense.weight', 'lm_head.decoder.bias', 'lm_head.dense.bias', 'lm_head.layer_norm.bias']\n",
      "- This IS expected if you are initializing XLMRobertaForSequenceClassification from the checkpoint of a model trained on another task or with another architecture (e.g. initializing a BertForSequenceClassification model from a BertForPreTraining model).\n",
      "- This IS NOT expected if you are initializing XLMRobertaForSequenceClassification from the checkpoint of a model that you expect to be exactly identical (initializing a BertForSequenceClassification model from a BertForSequenceClassification model).\n",
      "Some weights of XLMRobertaForSequenceClassification were not initialized from the model checkpoint at sagteam/covid-twitter-xlm-roberta-large and are newly initialized: ['classifier.out_proj.bias', 'roberta.pooler.dense.weight', 'classifier.out_proj.weight', 'roberta.pooler.dense.bias', 'classifier.dense.bias', 'classifier.dense.weight']\n",
      "You should probably TRAIN this model on a down-stream task to be able to use it for predictions and inference.\n"
     ]
    },
    {
     "data": {
      "application/vnd.jupyter.widget-view+json": {
       "model_id": "911eb616711b4aa9b0aa7dccc3d2a88a",
       "version_major": 2,
       "version_minor": 0
      },
      "text/plain": [
       "HBox(children=(FloatProgress(value=0.0, description='Downloading', max=5069051.0, style=ProgressStyle(descript…"
      ]
     },
     "metadata": {},
     "output_type": "display_data"
    },
    {
     "name": "stdout",
     "output_type": "stream",
     "text": [
      "\n"
     ]
    },
    {
     "data": {
      "application/vnd.jupyter.widget-view+json": {
       "model_id": "94fba4a9bde44eaa919a72fcd6386373",
       "version_major": 2,
       "version_minor": 0
      },
      "text/plain": [
       "HBox(children=(FloatProgress(value=0.0, description='Downloading', max=151.0, style=ProgressStyle(description_…"
      ]
     },
     "metadata": {},
     "output_type": "display_data"
    },
    {
     "name": "stdout",
     "output_type": "stream",
     "text": [
      "\n"
     ]
    },
    {
     "data": {
      "application/vnd.jupyter.widget-view+json": {
       "model_id": "7a73efbf68144fe0a0b8fd27d3f0441e",
       "version_major": 2,
       "version_minor": 0
      },
      "text/plain": [
       "HBox(children=(FloatProgress(value=0.0, description='Downloading', max=288.0, style=ProgressStyle(description_…"
      ]
     },
     "metadata": {},
     "output_type": "display_data"
    },
    {
     "name": "stdout",
     "output_type": "stream",
     "text": [
      "\n"
     ]
    }
   ],
   "source": [
    "d_scores = {}\n",
    "\n",
    "if config[\"task_type\"] == \"all\":\n",
    "    column_names = l_y_column_names\n",
    "    model_args = MultiLabelClassificationArgs(**config[\"args\"])\n",
    "    model = MultiLabelClassificationModel(config[\"model\"][\"model_type\"], config[\"model\"][\"model_name\"],\n",
    "                                          num_labels=num_labels, args=model_args)\n",
    "elif config[\"task_type\"] == \"bin\":\n",
    "    column_names = [\"other\", \"potential_covid\"]\n",
    "    model_args = ClassificationArgs(**config[\"args\"])\n",
    "    model = ClassificationModel(config[\"model\"][\"model_type\"], config[\"model\"][\"model_name\"],\n",
    "                                num_labels=2, args=model_args)"
   ]
  },
  {
   "cell_type": "code",
   "execution_count": 7,
   "id": "adc3c73f",
   "metadata": {
    "scrolled": true
   },
   "outputs": [
    {
     "data": {
      "application/vnd.jupyter.widget-view+json": {
       "model_id": "5bc78ef2e569468aa2e8d132f8e17091",
       "version_major": 2,
       "version_minor": 0
      },
      "text/plain": [
       "HBox(children=(FloatProgress(value=0.0, description='Epoch', max=15.0, style=ProgressStyle(description_width='…"
      ]
     },
     "metadata": {},
     "output_type": "display_data"
    },
    {
     "data": {
      "application/vnd.jupyter.widget-view+json": {
       "model_id": "34f7c9cb0fd6407f85e85990b2d2f11b",
       "version_major": 2,
       "version_minor": 0
      },
      "text/plain": [
       "HBox(children=(FloatProgress(value=0.0, description='Running Epoch 0 of 15', max=185.0, style=ProgressStyle(de…"
      ]
     },
     "metadata": {},
     "output_type": "display_data"
    },
    {
     "name": "stdout",
     "output_type": "stream",
     "text": [
      "\n"
     ]
    },
    {
     "data": {
      "application/vnd.jupyter.widget-view+json": {
       "model_id": "f16a8a809fa34941b72fa0087dd14800",
       "version_major": 2,
       "version_minor": 0
      },
      "text/plain": [
       "HBox(children=(FloatProgress(value=0.0, description='Running Epoch 1 of 15', max=185.0, style=ProgressStyle(de…"
      ]
     },
     "metadata": {},
     "output_type": "display_data"
    },
    {
     "name": "stdout",
     "output_type": "stream",
     "text": [
      "\n"
     ]
    },
    {
     "data": {
      "application/vnd.jupyter.widget-view+json": {
       "model_id": "b3f860afa7794d70a6b8f2e0510a8ec3",
       "version_major": 2,
       "version_minor": 0
      },
      "text/plain": [
       "HBox(children=(FloatProgress(value=0.0, description='Running Epoch 2 of 15', max=185.0, style=ProgressStyle(de…"
      ]
     },
     "metadata": {},
     "output_type": "display_data"
    },
    {
     "name": "stdout",
     "output_type": "stream",
     "text": [
      "\n"
     ]
    },
    {
     "data": {
      "application/vnd.jupyter.widget-view+json": {
       "model_id": "134553511ddd42d58125c746eb08b02a",
       "version_major": 2,
       "version_minor": 0
      },
      "text/plain": [
       "HBox(children=(FloatProgress(value=0.0, description='Running Epoch 3 of 15', max=185.0, style=ProgressStyle(de…"
      ]
     },
     "metadata": {},
     "output_type": "display_data"
    },
    {
     "name": "stdout",
     "output_type": "stream",
     "text": [
      "\n"
     ]
    },
    {
     "data": {
      "application/vnd.jupyter.widget-view+json": {
       "model_id": "bea5117d23284af3870692ee37e14527",
       "version_major": 2,
       "version_minor": 0
      },
      "text/plain": [
       "HBox(children=(FloatProgress(value=0.0, description='Running Epoch 4 of 15', max=185.0, style=ProgressStyle(de…"
      ]
     },
     "metadata": {},
     "output_type": "display_data"
    },
    {
     "name": "stdout",
     "output_type": "stream",
     "text": [
      "\n"
     ]
    },
    {
     "data": {
      "application/vnd.jupyter.widget-view+json": {
       "model_id": "0fa428781d894aabbcf99417e0563391",
       "version_major": 2,
       "version_minor": 0
      },
      "text/plain": [
       "HBox(children=(FloatProgress(value=0.0, description='Running Epoch 5 of 15', max=185.0, style=ProgressStyle(de…"
      ]
     },
     "metadata": {},
     "output_type": "display_data"
    },
    {
     "name": "stdout",
     "output_type": "stream",
     "text": [
      "\n"
     ]
    },
    {
     "data": {
      "application/vnd.jupyter.widget-view+json": {
       "model_id": "1d3fcd5f10fd405b8469f3179042c227",
       "version_major": 2,
       "version_minor": 0
      },
      "text/plain": [
       "HBox(children=(FloatProgress(value=0.0, description='Running Epoch 6 of 15', max=185.0, style=ProgressStyle(de…"
      ]
     },
     "metadata": {},
     "output_type": "display_data"
    },
    {
     "name": "stdout",
     "output_type": "stream",
     "text": [
      "\n"
     ]
    },
    {
     "data": {
      "application/vnd.jupyter.widget-view+json": {
       "model_id": "741666b3197746a697dffd9cb9c28619",
       "version_major": 2,
       "version_minor": 0
      },
      "text/plain": [
       "HBox(children=(FloatProgress(value=0.0, description='Running Epoch 7 of 15', max=185.0, style=ProgressStyle(de…"
      ]
     },
     "metadata": {},
     "output_type": "display_data"
    },
    {
     "name": "stdout",
     "output_type": "stream",
     "text": [
      "\n"
     ]
    },
    {
     "data": {
      "application/vnd.jupyter.widget-view+json": {
       "model_id": "c59ecff2f7dc4fc290d635ed03755e32",
       "version_major": 2,
       "version_minor": 0
      },
      "text/plain": [
       "HBox(children=(FloatProgress(value=0.0, description='Running Epoch 8 of 15', max=185.0, style=ProgressStyle(de…"
      ]
     },
     "metadata": {},
     "output_type": "display_data"
    },
    {
     "name": "stdout",
     "output_type": "stream",
     "text": [
      "\n"
     ]
    },
    {
     "data": {
      "application/vnd.jupyter.widget-view+json": {
       "model_id": "b2f5981fcab4409683aae61cf3bbd42f",
       "version_major": 2,
       "version_minor": 0
      },
      "text/plain": [
       "HBox(children=(FloatProgress(value=0.0, description='Running Epoch 9 of 15', max=185.0, style=ProgressStyle(de…"
      ]
     },
     "metadata": {},
     "output_type": "display_data"
    },
    {
     "name": "stdout",
     "output_type": "stream",
     "text": [
      "\n"
     ]
    },
    {
     "data": {
      "application/vnd.jupyter.widget-view+json": {
       "model_id": "c3e5b07e11bb4a079ed0cff6e65184dc",
       "version_major": 2,
       "version_minor": 0
      },
      "text/plain": [
       "HBox(children=(FloatProgress(value=0.0, description='Running Epoch 10 of 15', max=185.0, style=ProgressStyle(d…"
      ]
     },
     "metadata": {},
     "output_type": "display_data"
    },
    {
     "name": "stdout",
     "output_type": "stream",
     "text": [
      "\n"
     ]
    },
    {
     "data": {
      "application/vnd.jupyter.widget-view+json": {
       "model_id": "6dd966ae1ffc4f9bab6c37e92d73a476",
       "version_major": 2,
       "version_minor": 0
      },
      "text/plain": [
       "HBox(children=(FloatProgress(value=0.0, description='Running Epoch 11 of 15', max=185.0, style=ProgressStyle(d…"
      ]
     },
     "metadata": {},
     "output_type": "display_data"
    },
    {
     "name": "stdout",
     "output_type": "stream",
     "text": [
      "\n"
     ]
    },
    {
     "data": {
      "application/vnd.jupyter.widget-view+json": {
       "model_id": "fee857780a51435ab4642f7e03e68128",
       "version_major": 2,
       "version_minor": 0
      },
      "text/plain": [
       "HBox(children=(FloatProgress(value=0.0, description='Running Epoch 12 of 15', max=185.0, style=ProgressStyle(d…"
      ]
     },
     "metadata": {},
     "output_type": "display_data"
    },
    {
     "name": "stdout",
     "output_type": "stream",
     "text": [
      "\n"
     ]
    },
    {
     "data": {
      "application/vnd.jupyter.widget-view+json": {
       "model_id": "3d011d960c0a4507b31fef7bdc0614c1",
       "version_major": 2,
       "version_minor": 0
      },
      "text/plain": [
       "HBox(children=(FloatProgress(value=0.0, description='Running Epoch 13 of 15', max=185.0, style=ProgressStyle(d…"
      ]
     },
     "metadata": {},
     "output_type": "display_data"
    },
    {
     "name": "stdout",
     "output_type": "stream",
     "text": [
      "\n"
     ]
    },
    {
     "data": {
      "application/vnd.jupyter.widget-view+json": {
       "model_id": "0c17ad003e9f4822bddbc3adc2b57d08",
       "version_major": 2,
       "version_minor": 0
      },
      "text/plain": [
       "HBox(children=(FloatProgress(value=0.0, description='Running Epoch 14 of 15', max=185.0, style=ProgressStyle(d…"
      ]
     },
     "metadata": {},
     "output_type": "display_data"
    },
    {
     "name": "stdout",
     "output_type": "stream",
     "text": [
      "\n",
      "\n"
     ]
    },
    {
     "data": {
      "text/plain": [
       "(2775, 0.03802280801402884)"
      ]
     },
     "execution_count": 7,
     "metadata": {},
     "output_type": "execute_result"
    }
   ],
   "source": [
    "# training model\n",
    "\n",
    "model.train_model(tr, eval_df=vl)"
   ]
  },
  {
   "cell_type": "code",
   "execution_count": 8,
   "id": "7a548e83",
   "metadata": {},
   "outputs": [
    {
     "data": {
      "text/plain": [
       "'\\nif config[\"task_type\"] == \"all\":\\n    model = MultiLabelClassificationModel(config[\"model\"][\"model_type\"], \"./outputs\",\\n                                          num_labels=num_labels, args=model_args)\\nelif config[\"task_type\"] == \"bin\":\\n    model = ClassificationModel(config[\"model\"][\"model_type\"], \"./outputs\", \\n                                num_labels=2, args=model_args)\\n'"
      ]
     },
     "execution_count": 8,
     "metadata": {},
     "output_type": "execute_result"
    }
   ],
   "source": [
    "# load best model\n",
    "\"\"\"\n",
    "if config[\"task_type\"] == \"all\":\n",
    "    model = MultiLabelClassificationModel(config[\"model\"][\"model_type\"], \"./outputs\",\n",
    "                                          num_labels=num_labels, args=model_args)\n",
    "elif config[\"task_type\"] == \"bin\":\n",
    "    model = ClassificationModel(config[\"model\"][\"model_type\"], \"./outputs\", \n",
    "                                num_labels=2, args=model_args)\n",
    "\"\"\""
   ]
  },
  {
   "cell_type": "code",
   "execution_count": 9,
   "id": "99a5adc5",
   "metadata": {},
   "outputs": [
    {
     "data": {
      "application/vnd.jupyter.widget-view+json": {
       "model_id": "dfcd523655ee43d7aa022f530ecf1951",
       "version_major": 2,
       "version_minor": 0
      },
      "text/plain": [
       "HBox(children=(FloatProgress(value=0.0, max=5916.0), HTML(value='')))"
      ]
     },
     "metadata": {},
     "output_type": "display_data"
    },
    {
     "name": "stdout",
     "output_type": "stream",
     "text": [
      "\n"
     ]
    },
    {
     "data": {
      "application/vnd.jupyter.widget-view+json": {
       "model_id": "3509a17f67d847159c7a856d9358de42",
       "version_major": 2,
       "version_minor": 0
      },
      "text/plain": [
       "HBox(children=(FloatProgress(value=0.0, max=740.0), HTML(value='')))"
      ]
     },
     "metadata": {},
     "output_type": "display_data"
    },
    {
     "name": "stdout",
     "output_type": "stream",
     "text": [
      "\n",
      "Accuracy on the training set:\n",
      "                 precision    recall  f1-score   support\n",
      "\n",
      "          other       1.00      1.00      1.00      5322\n",
      "potential_covid       1.00      1.00      1.00       594\n",
      "\n",
      "       accuracy                           1.00      5916\n",
      "      macro avg       1.00      1.00      1.00      5916\n",
      "   weighted avg       1.00      1.00      1.00      5916\n",
      "\n"
     ]
    },
    {
     "data": {
      "application/vnd.jupyter.widget-view+json": {
       "model_id": "b7b99894271141e69ceda59333b45569",
       "version_major": 2,
       "version_minor": 0
      },
      "text/plain": [
       "HBox(children=(FloatProgress(value=0.0, max=1972.0), HTML(value='')))"
      ]
     },
     "metadata": {},
     "output_type": "display_data"
    },
    {
     "name": "stdout",
     "output_type": "stream",
     "text": [
      "\n"
     ]
    },
    {
     "data": {
      "application/vnd.jupyter.widget-view+json": {
       "model_id": "73c040001b7646b9bb11b17c1d464ce7",
       "version_major": 2,
       "version_minor": 0
      },
      "text/plain": [
       "HBox(children=(FloatProgress(value=0.0, max=247.0), HTML(value='')))"
      ]
     },
     "metadata": {},
     "output_type": "display_data"
    },
    {
     "name": "stdout",
     "output_type": "stream",
     "text": [
      "\n",
      "Accuracy on the validation set:\n",
      "                 precision    recall  f1-score   support\n",
      "\n",
      "          other       0.97      0.96      0.96      1757\n",
      "potential_covid       0.70      0.73      0.71       215\n",
      "\n",
      "       accuracy                           0.94      1972\n",
      "      macro avg       0.83      0.84      0.84      1972\n",
      "   weighted avg       0.94      0.94      0.94      1972\n",
      "\n"
     ]
    },
    {
     "data": {
      "application/vnd.jupyter.widget-view+json": {
       "model_id": "88c9523d0a664d6389f100aeadb01dda",
       "version_major": 2,
       "version_minor": 0
      },
      "text/plain": [
       "HBox(children=(FloatProgress(value=0.0, max=1972.0), HTML(value='')))"
      ]
     },
     "metadata": {},
     "output_type": "display_data"
    },
    {
     "name": "stdout",
     "output_type": "stream",
     "text": [
      "\n"
     ]
    },
    {
     "data": {
      "application/vnd.jupyter.widget-view+json": {
       "model_id": "b384e6157da64199a8cbd22471dc9efb",
       "version_major": 2,
       "version_minor": 0
      },
      "text/plain": [
       "HBox(children=(FloatProgress(value=0.0, max=247.0), HTML(value='')))"
      ]
     },
     "metadata": {},
     "output_type": "display_data"
    },
    {
     "name": "stdout",
     "output_type": "stream",
     "text": [
      "\n",
      "Accuracy on a test set:\n",
      "                 precision    recall  f1-score   support\n",
      "\n",
      "          other       0.97      0.96      0.97      1769\n",
      "potential_covid       0.69      0.72      0.71       203\n",
      "\n",
      "       accuracy                           0.94      1972\n",
      "      macro avg       0.83      0.84      0.84      1972\n",
      "   weighted avg       0.94      0.94      0.94      1972\n",
      "\n"
     ]
    }
   ],
   "source": [
    "# prediction and scoring\n",
    "\n",
    "pred, raw_outputs = model.predict(list(tr[\"text\"].values))\n",
    "\n",
    "print(\"Accuracy on the training set:\")\n",
    "print(classification_report(tr[\"labels\"].tolist(), pred, target_names=column_names))\n",
    "d_scores[\"tr\"] = {\"f1_macro\": f1_score(tr[\"labels\"].tolist(), pred, average=\"macro\"),\n",
    "                  \"classification_report\": classification_report(tr[\"labels\"].tolist(), pred, target_names=column_names),\n",
    "                  \"d_classfification_report\": classification_report(tr[\"labels\"].tolist(), pred, target_names=column_names, output_dict=True)}\n",
    "\n",
    "pred, raw_outputs = model.predict(list(vl[\"text\"].values))\n",
    "\n",
    "print(\"Accuracy on the validation set:\")\n",
    "print(classification_report(vl[\"labels\"].tolist(), pred, target_names=column_names))\n",
    "d_scores[\"vl\"] = {\"f1_macro\": f1_score(vl[\"labels\"].tolist(), pred, average=\"macro\"),\n",
    "                  \"classification_report\": classification_report(vl[\"labels\"].tolist(), pred, target_names=column_names),\n",
    "                  \"d_classfification_report\": classification_report(vl[\"labels\"].tolist(), pred, target_names=column_names, output_dict=True)}\n",
    "\n",
    "pred, raw_outputs = model.predict(list(ts[\"text\"].values))\n",
    "\n",
    "print(\"Accuracy on a test set:\")\n",
    "print(classification_report(ts[\"labels\"].tolist(), pred, target_names=column_names))\n",
    "d_scores[\"ts\"] = {\"f1_macro\": f1_score(ts[\"labels\"].tolist(), pred, average=\"macro\"),\n",
    "                  \"classification_report\": classification_report(ts[\"labels\"].tolist(), pred, target_names=column_names),\n",
    "                  \"d_classfification_report\": classification_report(ts[\"labels\"].tolist(), pred, target_names=column_names, output_dict=True)}"
   ]
  },
  {
   "cell_type": "code",
   "execution_count": 10,
   "id": "5fdfd34f",
   "metadata": {},
   "outputs": [
    {
     "name": "stdout",
     "output_type": "stream",
     "text": [
      "Successful complete\n"
     ]
    }
   ],
   "source": [
    "print(\"Successful complete\")"
   ]
  }
 ],
 "metadata": {
  "kernelspec": {
   "display_name": "Python_3.7.8_bert",
   "language": "python",
   "name": "python_3.7.8_bert"
  },
  "language_info": {
   "codemirror_mode": {
    "name": "ipython",
    "version": 3
   },
   "file_extension": ".py",
   "mimetype": "text/x-python",
   "name": "python",
   "nbconvert_exporter": "python",
   "pygments_lexer": "ipython3",
   "version": "3.7.8"
  }
 },
 "nbformat": 4,
 "nbformat_minor": 5
}
